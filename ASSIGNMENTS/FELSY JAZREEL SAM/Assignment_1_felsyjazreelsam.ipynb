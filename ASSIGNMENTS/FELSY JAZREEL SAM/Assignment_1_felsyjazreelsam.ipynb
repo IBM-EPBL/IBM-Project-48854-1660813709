Basic Python
1. Split this string
s = "Hi there Felsy!"
s.split()
['Hi', 'there', 'Felsy!']
2. Use .format() to print the following string.
Output should be: The diameter of Earth is 12742 kilometers.
planet = "Earth"
diameter = 12742
planet = "Earth"
diameter = 12742
print('The diameter of {} is {} kilometers.'.format(planet,diameter));
The diameter of Earth is 12742 kilometers.
3. In this nest dictionary grab the word "hello"
d = {'k1':[1,2,3,{'tricky':['oh','man','inception',{'target':[1,2,3,'hello']}]}]}
d = {'k1':[1,2,3,{'tricky':['oh','man','inception',{'target':[1,2,3,'hello']}]}]}
print(d['k1'][3]["tricky"][3]['target'][3])
hello
Numpy
import numpy as np
4.1 Create an array of 10 zeros?
4.2 Create an array of 10 fives?
array=np.zeros(10)
array
array([0., 0., 0., 0., 0., 0., 0., 0., 0., 0.])
array=np.ones(10)*5
array
array([5., 5., 5., 5., 5., 5., 5., 5., 5., 5.])
5. Create an array of all the even integers from 20 to 35
array=np.arange(20,35,2)
array
array([20, 22, 24, 26, 28, 30, 32, 34])
6. Create a 3x3 matrix with values ranging from 0 to 8
matrix=np.arange(0,9).reshape(3,3)
matrix
array([[0, 1, 2],
       [3, 4, 5],
       [6, 7, 8]])
 
7. Concatenate a and b
a = np.array([1, 2, 3]), b = np.array([4, 5, 6])
a = np.array([1, 2, 3]) 
b = np.array([4, 5, 6])
ab=np.concatenate((a,b),axis=0)
ab
array([1, 2, 3, 4, 5, 6])
Pandas
8. Create a dataframe with 3 rows and 2 columns
import pandas as pd
data = [['Sam', 55], ['Ebini', 30], ['Jenny', 31]]
df = pd.DataFrame(data, columns=['Name', 'Age'])
df
Name	Age
0	Sam	55
1	Ebini	30
2	Jenny	31
9. Generate the series of dates from 1st Jan, 2023 to 10th Feb, 2023
felsyjazreelsam = pd.date_range(start ='01-01-2023', 
         end ='02-10-2023' )
  
for val in felsyjazreelsam:
  print(val)
2023-01-01 00:00:00
2023-01-02 00:00:00
2023-01-03 00:00:00
2023-01-04 00:00:00
2023-01-05 00:00:00
2023-01-06 00:00:00
2023-01-07 00:00:00
2023-01-08 00:00:00
2023-01-09 00:00:00
2023-01-10 00:00:00
2023-01-11 00:00:00
2023-01-12 00:00:00
2023-01-13 00:00:00
2023-01-14 00:00:00
2023-01-15 00:00:00
2023-01-16 00:00:00
2023-01-17 00:00:00
2023-01-18 00:00:00
2023-01-19 00:00:00
2023-01-20 00:00:00
2023-01-21 00:00:00
2023-01-22 00:00:00
2023-01-23 00:00:00
2023-01-24 00:00:00
2023-01-25 00:00:00
2023-01-26 00:00:00
2023-01-27 00:00:00
2023-01-28 00:00:00
2023-01-29 00:00:00
2023-01-30 00:00:00
2023-01-31 00:00:00
2023-02-01 00:00:00
2023-02-02 00:00:00
2023-02-03 00:00:00
2023-02-04 00:00:00
2023-02-05 00:00:00
2023-02-06 00:00:00
2023-02-07 00:00:00
2023-02-08 00:00:00
2023-02-09 00:00:00
2023-02-10 00:00:00
10. Create 2D list to DataFrame
lists = [[1, 'aaa', 22], [2, 'bbb', 25], [3, 'ccc', 24]]

lists = [[1, 'aaa', 22], [2, 'bbb', 25], [3, 'ccc', 24]]
lists = [[1,'aaa', 22], [2,'bbb', 25], [3,'ccc', 24]]
 
# Create the pandas DataFrame
df = pd.DataFrame(lists, columns = ['s.no','name','Age'])
 
# print dataframe.
print(df )
       
   s.no name  Age
0     1  aaa   22
1     2  bbb   25
2     3  ccc   24
